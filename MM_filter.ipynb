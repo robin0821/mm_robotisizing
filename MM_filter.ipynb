{
 "cells": [
  {
   "cell_type": "code",
   "execution_count": 1,
   "metadata": {
    "collapsed": true
   },
   "outputs": [],
   "source": [
    "import pandas as pd\n",
    "import numpy as np\n",
    "import datetime as dt\n",
    "import re"
   ]
  },
  {
   "cell_type": "code",
   "execution_count": 2,
   "metadata": {
    "collapsed": true
   },
   "outputs": [],
   "source": [
    "mm = pd.read_excel(r'C:\\Users\\duro\\Downloads\\9B6F9A7D-2683-46D3-A2AB-10CECE14698F.xls', sheetname='Report', header=2, parse_dates=['Date'], dayfirst=True)"
   ]
  },
  {
   "cell_type": "code",
   "execution_count": 3,
   "metadata": {
    "collapsed": true
   },
   "outputs": [],
   "source": [
    "mm.insert(0, 'Industry', np.nan)"
   ]
  },
  {
   "cell_type": "code",
   "execution_count": 4,
   "metadata": {
    "collapsed": true
   },
   "outputs": [],
   "source": [
    "for i in range(0, mm.index[-1] + 1):\n",
    "    if mm.loc[i, :'Date'].notnull and mm.loc[i, 'Value':'Stake Value (%)'].isnull().all()==True:\n",
    "        industry = mm['Date'][i]\n",
    "    mm.loc[i,'Industry'] = industry\n",
    "    i + 1"
   ]
  },
  {
   "cell_type": "code",
   "execution_count": 5,
   "metadata": {
    "collapsed": true
   },
   "outputs": [],
   "source": [
    "mm = mm.dropna(thresh=5)"
   ]
  },
  {
   "cell_type": "code",
   "execution_count": 6,
   "metadata": {
    "collapsed": true,
    "scrolled": false
   },
   "outputs": [],
   "source": [
    "mm = mm[mm['Headline'].str.contains('Asia M&A Policy')==False]"
   ]
  },
  {
   "cell_type": "code",
   "execution_count": 7,
   "metadata": {
    "collapsed": true
   },
   "outputs": [],
   "source": [
    "mm = mm[mm['Headline'].str.contains('Mergermarket Asia Pacific')==False]"
   ]
  },
  {
   "cell_type": "code",
   "execution_count": 8,
   "metadata": {
    "collapsed": true
   },
   "outputs": [],
   "source": [
    "mm = mm[mm['Headline'].str.contains('MM Asia Pacific')==False]"
   ]
  },
  {
   "cell_type": "code",
   "execution_count": 9,
   "metadata": {
    "collapsed": true,
    "scrolled": true
   },
   "outputs": [],
   "source": [
    "mm = mm.drop('State', axis=1)"
   ]
  },
  {
   "cell_type": "code",
   "execution_count": 10,
   "metadata": {
    "collapsed": true
   },
   "outputs": [],
   "source": [
    "# one = []\n",
    "# two = []\n",
    "# three = []\n",
    "# one = mm['Headline'].str.extract(r\"([A-Z][\\w-]*)\", expand=False)\n",
    "# two = mm['Headline'].str.extract(r\"([A-Z][\\w-]*\\s[A-Z][\\w-]*)\", expand=False)\n",
    "# three = mm['Headline'].str.extract(r\"([A-Z][\\w-]*\\s[A-Z][\\w-]*\\s[A-Z][\\w-]*)\", expand=False)\n",
    "# mm['keyword'] = mm['Headline'].str.extract(r\"([A-Z][\\w-]*(?:\\s+[A-Z][\\w-]*)+)\", expand=False)"
   ]
  },
  {
   "cell_type": "code",
   "execution_count": 11,
   "metadata": {
    "collapsed": true
   },
   "outputs": [],
   "source": [
    "text = mm['Headline'].str.split()[1][0] + \" \" + mm['Headline'].str.split()[1][1] + \" \" + mm['Headline'].str.split()[1][2]"
   ]
  },
  {
   "cell_type": "code",
   "execution_count": 12,
   "metadata": {},
   "outputs": [
    {
     "name": "stdout",
     "output_type": "stream",
     "text": [
      "Botanical Resources Australia\n"
     ]
    }
   ],
   "source": [
    "print(text)"
   ]
  },
  {
   "cell_type": "code",
   "execution_count": 13,
   "metadata": {
    "collapsed": true
   },
   "outputs": [],
   "source": [
    "for index in mm.index:\n",
    "    text = mm['Headline'].str.split()[index][0] + \" \" + mm['Headline'].str.split()[index][1] + \" \" + mm['Headline'].str.split()[index][2]\n",
    "    one = []\n",
    "    two = []\n",
    "    three = []\n",
    "    one = re.findall(r\"([A-Z0-9][\\w-]*[.]*[\\w-]*)\", text)\n",
    "    two = re.findall(r\"([A-Z0-9][\\w-]*\\s[A-Z][\\w-]*)\", text)\n",
    "    three = re.findall(r\"([A-Z0-9][\\w-]*\\s[A-Z][\\w-]*\\s[A-Z][\\w-]*)\", text)\n",
    "    if len(three)!=0:\n",
    "        mm.loc[index, \"keyword\"] = three[0]\n",
    "    else:\n",
    "        if len(two)!=0:\n",
    "            mm.loc[index, \"keyword\"] = two[0]\n",
    "        else:\n",
    "            mm.loc[index, \"keyword\"] = one[0]"
   ]
  },
  {
   "cell_type": "code",
   "execution_count": 14,
   "metadata": {
    "collapsed": true,
    "scrolled": true
   },
   "outputs": [],
   "source": [
    "mm['Vic?'] = np.nan\n",
    "mm['C'] = np.nan\n",
    "mm['CSP'] = np.nan\n",
    "mm['TASCL'] = np.nan\n",
    "mm[\"\"\"EY's recent pitch\"\"\"] = np.nan\n",
    "mm['Pitch leader'] = np.nan\n",
    "mm['Effective Date'] = np.nan\n",
    "mm['Accountability'] = np.nan\n",
    "mm['Actions to Take'] = np.nan"
   ]
  },
  {
   "cell_type": "code",
   "execution_count": 15,
   "metadata": {
    "collapsed": true,
    "scrolled": true
   },
   "outputs": [],
   "source": [
    "file_prefix = dt.date.today().strftime('%y%m%d')"
   ]
  },
  {
   "cell_type": "code",
   "execution_count": 16,
   "metadata": {
    "collapsed": true
   },
   "outputs": [],
   "source": [
    "mm = mm.sort_values('Date', ascending=False)"
   ]
  },
  {
   "cell_type": "code",
   "execution_count": 17,
   "metadata": {
    "collapsed": true,
    "scrolled": true
   },
   "outputs": [],
   "source": [
    "mm.to_excel(r'C:\\\\EY\\\\Pipeline\\\\MM\\\\' + file_prefix + \"-MM_Intelligence_V01.xlsx\", sheet_name='Report', index=False)"
   ]
  },
  {
   "cell_type": "code",
   "execution_count": null,
   "metadata": {
    "collapsed": true
   },
   "outputs": [],
   "source": []
  }
 ],
 "metadata": {
  "kernelspec": {
   "display_name": "Python 3",
   "language": "python",
   "name": "python3"
  },
  "language_info": {
   "codemirror_mode": {
    "name": "ipython",
    "version": 3
   },
   "file_extension": ".py",
   "mimetype": "text/x-python",
   "name": "python",
   "nbconvert_exporter": "python",
   "pygments_lexer": "ipython3",
   "version": "3.6.1"
  }
 },
 "nbformat": 4,
 "nbformat_minor": 2
}
