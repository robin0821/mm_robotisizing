{
 "cells": [
  {
   "cell_type": "markdown",
   "metadata": {},
   "source": [
    "# Step one - Process MM Intelligence data into expected content in table\n",
    "\n",
    "First of all, go to MergerMarket homepage and download the Intelligence for last week!!!\n",
    "\n",
    "1. Change file name to MM latest downloads (This requires mannual copy and paste operation)\n",
    "2. Eliminate all blank rows\n",
    "3. Eliminate irrelavant rows (rows that contains only market policy and general economic landscape)\n",
    "4. Create Industry column and populate the cells\n",
    "5. Create CSP, TASCL, Channel, VIC, EY's recent engagement, Engagement leader, accountability column for later fill-out\n",
    "6. Extract keyword from text to use for searching and matching in following steps\n",
    "\n",
    "__[Code 1 : Click to open the execution page](http://localhost:8888/notebooks/MM_filter.ipynb#)__"
   ]
  },
  {
   "cell_type": "markdown",
   "metadata": {},
   "source": [
    "# Step two - Populate GCSP/CCSP and client channel\n",
    "\n",
    "1. Opoen Account_list file\n",
    "2. Use keyword and find matchs\n",
    "3. Populate the account information in MM intelligence table (generated in step one)\n",
    "4. Save the file\n",
    "\n",
    "__[Code 2 : Click to open the execution page](http://localhost:8888/notebooks/mm_get_csp.ipynb)__\n"
   ]
  },
  {
   "cell_type": "markdown",
   "metadata": {
    "collapsed": true
   },
   "source": [
    "# Step three - Crossfilter CRM records\n",
    "\n",
    "1. Open and import TAS' CRM records (extract from Market Report Tool on weekly basis)\n",
    "2. Use keyword and find all matchs\n",
    "3. Populate the recent client related EY's pursuits\n",
    "4. Save the file\n",
    "\n",
    "__[Code 3 : Click to open the execution page](http://localhost:8888/notebooks/MM_crossfilter_CRM.ipynb)__"
   ]
  },
  {
   "cell_type": "markdown",
   "metadata": {},
   "source": [
    "# Step four - Filter out VIC based companies\n",
    "\n",
    "1. Open VIC based companies list (25K companies in VIC)\n",
    "2. Use keyword to find match\n",
    "3. If a match is find, mark the client location as \"VIC\"\n",
    "4. Save the file\n",
    "\n",
    "__[Code 4 : Click to open the execution page](http://localhost:8888/notebooks/MM_get_vic.ipynb)__"
   ]
  },
  {
   "cell_type": "markdown",
   "metadata": {},
   "source": [
    "# Step five - Formatting the result\n",
    "\n",
    "1. This step is underdevelopment coz havn't figured out whether it's worth the effort.\n",
    "\n",
    "__[Code 5 : Click to open the execution page](http://localhost:8888/notebooks/MM_Formating_Result.ipynb)__"
   ]
  },
  {
   "cell_type": "code",
   "execution_count": null,
   "metadata": {
    "collapsed": true
   },
   "outputs": [],
   "source": []
  }
 ],
 "metadata": {
  "kernelspec": {
   "display_name": "Python 3",
   "language": "python",
   "name": "python3"
  },
  "language_info": {
   "codemirror_mode": {
    "name": "ipython",
    "version": 3
   },
   "file_extension": ".py",
   "mimetype": "text/x-python",
   "name": "python",
   "nbconvert_exporter": "python",
   "pygments_lexer": "ipython3",
   "version": "3.6.1"
  }
 },
 "nbformat": 4,
 "nbformat_minor": 2
}
