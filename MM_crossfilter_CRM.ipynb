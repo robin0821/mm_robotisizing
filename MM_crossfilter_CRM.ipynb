{
 "cells": [
  {
   "cell_type": "code",
   "execution_count": 1,
   "metadata": {
    "collapsed": true
   },
   "outputs": [],
   "source": [
    "import pandas as pd\n",
    "import xlwings as xw\n",
    "import datetime as dt"
   ]
  },
  {
   "cell_type": "code",
   "execution_count": 2,
   "metadata": {
    "collapsed": true
   },
   "outputs": [],
   "source": [
    "crm = pd.read_excel('C:\\EY\\Pipeline\\CRM Dump\\CRM-TAS.xlsx', sheetname='CRM')\n",
    "crm = crm.fillna(\"N.A.\")"
   ]
  },
  {
   "cell_type": "code",
   "execution_count": 3,
   "metadata": {
    "collapsed": true
   },
   "outputs": [],
   "source": [
    "file_prefix = dt.date.today().strftime('%y%m%d')\n",
    "wb_mm = xw.Book(r'C:\\\\EY\\\\Pipeline\\\\MM\\\\' + file_prefix + \"-MM_Intelligence_V01.xlsx\")\n",
    "sht_mm = wb_mm.sheets['Report']"
   ]
  },
  {
   "cell_type": "code",
   "execution_count": 6,
   "metadata": {},
   "outputs": [
    {
     "name": "stdout",
     "output_type": "stream",
     "text": [
      "1\n",
      "2\n",
      "3\n",
      "4\n",
      "5\n",
      "6\n",
      "7\n",
      "8\n",
      "9\n",
      "10\n",
      "11\n",
      "12\n",
      "13\n",
      "14\n",
      "15\n",
      "16\n",
      "17\n",
      "18\n",
      "19\n",
      "20\n",
      "21\n",
      "22\n",
      "23\n",
      "24\n",
      "25\n",
      "26\n",
      "27\n",
      "28\n",
      "29\n",
      "30\n",
      "31\n",
      "32\n",
      "33\n",
      "34\n",
      "35\n",
      "36\n",
      "37\n",
      "38\n",
      "39\n",
      "40\n",
      "41\n",
      "42\n",
      "43\n",
      "44\n",
      "45\n",
      "46\n",
      "47\n",
      "48\n",
      "49\n",
      "50\n",
      "51\n",
      "52\n",
      "53\n",
      "54\n",
      "55\n",
      "56\n",
      "57\n",
      "58\n",
      "59\n"
     ]
    }
   ],
   "source": [
    "for i in range(1, 60):\n",
    "    company = sht_mm.range('N' + str(i)).value\n",
    "    company = str(company).lower()\n",
    "    \n",
    "    for l in crm['Opportunity ID'].index:\n",
    "        full_name = crm['Account Name'][l]\n",
    "        full_name = str(full_name).lower()\n",
    "        gcsp = crm['Global Client Service Partner Name'][l]\n",
    "        gcsp = str(gcsp)\n",
    "        opps = crm['Opportunity Name'][l]\n",
    "        opps = str(opps)\n",
    "        tascl = crm['Global TAS Account Leader Name'][l]\n",
    "        tascl = str(tascl)\n",
    "        ep = crm['Anticipated Eng Partner Name'][l]\n",
    "        ep = str(ep)\n",
    "        eff_date = crm['EffectiveOpenDate'][l]\n",
    "        eff_date = str(eff_date)\n",
    "        channel = crm['Account Channel'][l]\n",
    "        channel = str(channel)\n",
    "    \n",
    "        if company not in full_name:\n",
    "            continue\n",
    "        else:\n",
    "            sht_mm.range('P' + str(i)).value = channel # get channel No.\n",
    "            sht_mm.range('Q' + str(i)).value = gcsp # get gcsp name\n",
    "            sht_mm.range('R' + str(i)).value = tascl # get tascl\n",
    "            sht_mm.range('S' + str(i)).value = opps # get opportunity name\n",
    "            sht_mm.range('T' + str(i)).value = ep # get anticipated engagement partner's name\n",
    "            sht_mm.range('U' + str(i)).value = eff_date # get opportunity effected date\n",
    "            break\n",
    "        l + 1\n",
    "    i + 1\n",
    "    print(i)            \n",
    "\n",
    "wb_mm.save()"
   ]
  },
  {
   "cell_type": "code",
   "execution_count": null,
   "metadata": {
    "collapsed": true
   },
   "outputs": [],
   "source": []
  },
  {
   "cell_type": "code",
   "execution_count": null,
   "metadata": {
    "collapsed": true
   },
   "outputs": [],
   "source": []
  },
  {
   "cell_type": "code",
   "execution_count": null,
   "metadata": {
    "collapsed": true
   },
   "outputs": [],
   "source": []
  },
  {
   "cell_type": "code",
   "execution_count": 31,
   "metadata": {},
   "outputs": [
    {
     "data": {
      "text/plain": [
       "RangeIndex(start=0, stop=4225, step=1)"
      ]
     },
     "execution_count": 31,
     "metadata": {},
     "output_type": "execute_result"
    }
   ],
   "source": []
  },
  {
   "cell_type": "code",
   "execution_count": null,
   "metadata": {
    "collapsed": true
   },
   "outputs": [],
   "source": []
  }
 ],
 "metadata": {
  "kernelspec": {
   "display_name": "Python 3",
   "language": "python",
   "name": "python3"
  },
  "language_info": {
   "codemirror_mode": {
    "name": "ipython",
    "version": 3
   },
   "file_extension": ".py",
   "mimetype": "text/x-python",
   "name": "python",
   "nbconvert_exporter": "python",
   "pygments_lexer": "ipython3",
   "version": "3.6.1"
  }
 },
 "nbformat": 4,
 "nbformat_minor": 2
}
